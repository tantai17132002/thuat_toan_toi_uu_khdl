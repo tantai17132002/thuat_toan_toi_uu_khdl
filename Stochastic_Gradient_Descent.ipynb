{
  "cells": [
    {
      "cell_type": "markdown",
      "metadata": {
        "id": "view-in-github",
        "colab_type": "text"
      },
      "source": [
        "<a href=\"https://colab.research.google.com/github/tantai17132002/thuat_toan_toi_uu_khdl/blob/main/Stochastic_Gradient_Descent.ipynb\" target=\"_parent\"><img src=\"https://colab.research.google.com/assets/colab-badge.svg\" alt=\"Open In Colab\"/></a>"
      ]
    },
    {
      "cell_type": "markdown",
      "metadata": {
        "id": "PM6mfLKFXxC_"
      },
      "source": [
        "## The main problem with Batch Gradient Descent is the fact that it uses the whole training set to compute the gradients at every step, which makes it very slow when the training set is large.\n",
        "## Stochastic Gradient Descent just picks a random instance in the training set at every step and computes the gradients based only on that single instance.\n",
        "# problems:\n",
        "## due to its stochastic (i.e., random) nature, this algorithm is much less regular than Batch Gradient Descent: instead of gently decreasing until it reaches the minimum, the cost function will bounce up and down."
      ]
    },
    {
      "cell_type": "markdown",
      "metadata": {
        "id": "W0yzlq7vXxDA"
      },
      "source": [
        "![Screenshot%202020-09-20%20113512.png](attachment:Screenshot%202020-09-20%20113512.png)"
      ]
    },
    {
      "cell_type": "markdown",
      "metadata": {
        "id": "KhYO2ntLXxDA"
      },
      "source": [
        "## One solution to this dilemma is to gradually reduce the learning rate. The steps start out large (which helps make quick progress and escape local minima), then get smaller and smaller, allowing the algorithm to settle at the global minimum. This process is akin to simulated annealing"
      ]
    },
    {
      "cell_type": "code",
      "execution_count": null,
      "metadata": {
        "id": "-2Nd_xJzXxDB"
      },
      "outputs": [],
      "source": [
        "import numpy as np\n",
        "import pandas as pd\n",
        "import matplotlib.pyplot as plt\n",
        "from matplotlib import style\n",
        "style.use(\"fivethirtyeight\")\n",
        "import seaborn as sns\n",
        "import warnings\n",
        "warnings.filterwarnings(\"ignore\")"
      ]
    },
    {
      "cell_type": "code",
      "execution_count": null,
      "metadata": {
        "id": "oos2DWunXxDC",
        "outputId": "3ce35fc6-46b0-494a-e354-1253d235c1f4"
      },
      "outputs": [
        {
          "data": {
            "text/html": [
              "<div>\n",
              "<style scoped>\n",
              "    .dataframe tbody tr th:only-of-type {\n",
              "        vertical-align: middle;\n",
              "    }\n",
              "\n",
              "    .dataframe tbody tr th {\n",
              "        vertical-align: top;\n",
              "    }\n",
              "\n",
              "    .dataframe thead th {\n",
              "        text-align: right;\n",
              "    }\n",
              "</style>\n",
              "<table border=\"1\" class=\"dataframe\">\n",
              "  <thead>\n",
              "    <tr style=\"text-align: right;\">\n",
              "      <th></th>\n",
              "      <th>YearsExperience</th>\n",
              "      <th>Salary</th>\n",
              "      <th>age</th>\n",
              "      <th>company_change</th>\n",
              "      <th>type</th>\n",
              "    </tr>\n",
              "  </thead>\n",
              "  <tbody>\n",
              "    <tr>\n",
              "      <th>0</th>\n",
              "      <td>1.1</td>\n",
              "      <td>39343</td>\n",
              "      <td>21</td>\n",
              "      <td>1</td>\n",
              "      <td>junior</td>\n",
              "    </tr>\n",
              "    <tr>\n",
              "      <th>1</th>\n",
              "      <td>1.3</td>\n",
              "      <td>46205</td>\n",
              "      <td>31</td>\n",
              "      <td>0</td>\n",
              "      <td>middle</td>\n",
              "    </tr>\n",
              "    <tr>\n",
              "      <th>2</th>\n",
              "      <td>1.5</td>\n",
              "      <td>37731</td>\n",
              "      <td>29</td>\n",
              "      <td>1</td>\n",
              "      <td>middle</td>\n",
              "    </tr>\n",
              "    <tr>\n",
              "      <th>3</th>\n",
              "      <td>2.0</td>\n",
              "      <td>43525</td>\n",
              "      <td>30</td>\n",
              "      <td>1</td>\n",
              "      <td>middle</td>\n",
              "    </tr>\n",
              "    <tr>\n",
              "      <th>4</th>\n",
              "      <td>2.2</td>\n",
              "      <td>39891</td>\n",
              "      <td>27</td>\n",
              "      <td>1</td>\n",
              "      <td>middle</td>\n",
              "    </tr>\n",
              "  </tbody>\n",
              "</table>\n",
              "</div>"
            ],
            "text/plain": [
              "   YearsExperience  Salary  age  company_change    type\n",
              "0              1.1   39343   21               1  junior\n",
              "1              1.3   46205   31               0  middle\n",
              "2              1.5   37731   29               1  middle\n",
              "3              2.0   43525   30               1  middle\n",
              "4              2.2   39891   27               1  middle"
            ]
          },
          "execution_count": 2,
          "metadata": {},
          "output_type": "execute_result"
        }
      ],
      "source": [
        "dataset=pd.read_csv(\"salary.csv\")\n",
        "dataset.head()"
      ]
    },
    {
      "cell_type": "code",
      "execution_count": null,
      "metadata": {
        "id": "6Ru4IaW-XxDD",
        "outputId": "c0707f4d-638b-411e-c659-c244504911bc"
      },
      "outputs": [
        {
          "data": {
            "text/plain": [
              "YearsExperience    0\n",
              "Salary             0\n",
              "age                0\n",
              "company_change     0\n",
              "type               0\n",
              "dtype: int64"
            ]
          },
          "execution_count": 3,
          "metadata": {},
          "output_type": "execute_result"
        }
      ],
      "source": [
        "dataset.isnull().sum()"
      ]
    },
    {
      "cell_type": "code",
      "execution_count": null,
      "metadata": {
        "id": "hwiVpE7YXxDD",
        "outputId": "54eeb76d-f356-4e07-b610-b34c4bf7c068"
      },
      "outputs": [
        {
          "data": {
            "text/html": [
              "<div>\n",
              "<style scoped>\n",
              "    .dataframe tbody tr th:only-of-type {\n",
              "        vertical-align: middle;\n",
              "    }\n",
              "\n",
              "    .dataframe tbody tr th {\n",
              "        vertical-align: top;\n",
              "    }\n",
              "\n",
              "    .dataframe thead th {\n",
              "        text-align: right;\n",
              "    }\n",
              "</style>\n",
              "<table border=\"1\" class=\"dataframe\">\n",
              "  <thead>\n",
              "    <tr style=\"text-align: right;\">\n",
              "      <th></th>\n",
              "      <th>count</th>\n",
              "      <th>mean</th>\n",
              "      <th>std</th>\n",
              "      <th>min</th>\n",
              "      <th>25%</th>\n",
              "      <th>50%</th>\n",
              "      <th>75%</th>\n",
              "      <th>max</th>\n",
              "    </tr>\n",
              "  </thead>\n",
              "  <tbody>\n",
              "    <tr>\n",
              "      <th>YearsExperience</th>\n",
              "      <td>30.0</td>\n",
              "      <td>5.313333</td>\n",
              "      <td>2.837888</td>\n",
              "      <td>1.1</td>\n",
              "      <td>3.20</td>\n",
              "      <td>4.7</td>\n",
              "      <td>7.70</td>\n",
              "      <td>10.5</td>\n",
              "    </tr>\n",
              "    <tr>\n",
              "      <th>Salary</th>\n",
              "      <td>30.0</td>\n",
              "      <td>76003.000000</td>\n",
              "      <td>27414.429785</td>\n",
              "      <td>37731.0</td>\n",
              "      <td>56720.75</td>\n",
              "      <td>65237.0</td>\n",
              "      <td>100544.75</td>\n",
              "      <td>122391.0</td>\n",
              "    </tr>\n",
              "    <tr>\n",
              "      <th>age</th>\n",
              "      <td>30.0</td>\n",
              "      <td>34.266667</td>\n",
              "      <td>7.031620</td>\n",
              "      <td>21.0</td>\n",
              "      <td>29.00</td>\n",
              "      <td>34.0</td>\n",
              "      <td>37.75</td>\n",
              "      <td>56.0</td>\n",
              "    </tr>\n",
              "    <tr>\n",
              "      <th>company_change</th>\n",
              "      <td>30.0</td>\n",
              "      <td>0.400000</td>\n",
              "      <td>0.498273</td>\n",
              "      <td>0.0</td>\n",
              "      <td>0.00</td>\n",
              "      <td>0.0</td>\n",
              "      <td>1.00</td>\n",
              "      <td>1.0</td>\n",
              "    </tr>\n",
              "  </tbody>\n",
              "</table>\n",
              "</div>"
            ],
            "text/plain": [
              "                 count          mean           std      min       25%  \\\n",
              "YearsExperience   30.0      5.313333      2.837888      1.1      3.20   \n",
              "Salary            30.0  76003.000000  27414.429785  37731.0  56720.75   \n",
              "age               30.0     34.266667      7.031620     21.0     29.00   \n",
              "company_change    30.0      0.400000      0.498273      0.0      0.00   \n",
              "\n",
              "                     50%        75%       max  \n",
              "YearsExperience      4.7       7.70      10.5  \n",
              "Salary           65237.0  100544.75  122391.0  \n",
              "age                 34.0      37.75      56.0  \n",
              "company_change       0.0       1.00       1.0  "
            ]
          },
          "execution_count": 4,
          "metadata": {},
          "output_type": "execute_result"
        }
      ],
      "source": [
        "dataset.describe().transpose()"
      ]
    },
    {
      "cell_type": "code",
      "execution_count": null,
      "metadata": {
        "id": "HbZXXHXvXxDE"
      },
      "outputs": [],
      "source": [
        "x=np.array(dataset['YearsExperience'])\n",
        "y=np.array(dataset['Salary'])\n",
        "l=len(x)"
      ]
    },
    {
      "cell_type": "code",
      "execution_count": null,
      "metadata": {
        "id": "xG87pBovXxDE"
      },
      "outputs": [],
      "source": [
        "from sklearn.model_selection import train_test_split"
      ]
    },
    {
      "cell_type": "code",
      "execution_count": null,
      "metadata": {
        "id": "u7uf6X4sXxDF"
      },
      "outputs": [],
      "source": [
        "x_train,x_test,y_train,y_test=train_test_split(x,y,random_state=6)\n",
        "lx=len(x_train)"
      ]
    },
    {
      "cell_type": "code",
      "execution_count": null,
      "metadata": {
        "id": "O6Kc5i7MXxDF"
      },
      "outputs": [],
      "source": [
        "m=0.1\n",
        "c=0.5\n",
        "alpha=0.01\n",
        "n=5000\n",
        "for i in range(n):\n",
        "    slope=0\n",
        "    intercept=0\n",
        "    for j in range(lx):\n",
        "        random_index=np.random.randint(lx)\n",
        "        intercept=intercept+((m*x_train[random_index:random_index+1]+c)-y_train[random_index:random_index+1])\n",
        "        slope=slope+((m*x_train[random_index:random_index+1]+c)-y_train[random_index:random_index+1])*x_train[random_index:random_index+1]\n",
        "        c=c-alpha*(intercept/lx)\n",
        "        m=m-alpha*(slope/lx)"
      ]
    },
    {
      "cell_type": "code",
      "execution_count": null,
      "metadata": {
        "id": "IyO5I47XXxDF",
        "outputId": "7335a477-d4db-4ddb-85e2-afa2fa614d04"
      },
      "outputs": [
        {
          "name": "stdout",
          "output_type": "stream",
          "text": [
            "slope is [9304.78163087]\n",
            "intercept is [23067.41234747]\n"
          ]
        }
      ],
      "source": [
        "print(f\"slope is {m}\")\n",
        "print(f\"intercept is {c}\")"
      ]
    },
    {
      "cell_type": "code",
      "execution_count": null,
      "metadata": {
        "id": "kUogRS6HXxDG",
        "outputId": "d7d078ce-83f0-4ed7-c2b7-960117cc5cfb"
      },
      "outputs": [
        {
          "data": {
            "text/plain": [
              "array([ 33302.67214143, 118906.66314544, 112393.31600383,  50981.75724008,\n",
              "        72382.75499109,  78896.1021327 ,  52842.71356626,  50051.279077  ])"
            ]
          },
          "execution_count": 50,
          "metadata": {},
          "output_type": "execute_result"
        }
      ],
      "source": [
        "y_pred=np.dot(m[0],x_test)+c[0]\n",
        "y_pred"
      ]
    },
    {
      "cell_type": "code",
      "execution_count": null,
      "metadata": {
        "id": "2H3otbe_XxDG",
        "outputId": "474247a1-a94e-405a-a7d8-3321a5a0f4c1"
      },
      "outputs": [
        {
          "data": {
            "image/png": "[encoded data removed]",
            "text/plain": [
              "<Figure size 432x288 with 1 Axes>"
            ]
          },
          "metadata": {
            "needs_background": "light"
          },
          "output_type": "display_data"
        }
      ],
      "source": [
        "plt.plot(x_test,y_pred,marker='o',\n",
        "         color='blue',markerfacecolor='red',\n",
        "         markersize=10,linestyle='dashed')\n",
        "plt.scatter(x,y,marker='o',color='red')\n",
        "plt.xlabel(\"yexp\")\n",
        "plt.ylabel(\"slaary\")\n",
        "plt.title(\"Gradient descent\")\n",
        "plt.show()"
      ]
    },
    {
      "cell_type": "code",
      "execution_count": null,
      "metadata": {
        "id": "I9tnQJ7UXxDG"
      },
      "outputs": [],
      "source": [
        "from sklearn.metrics import mean_squared_error,r2_score,mean_absolute_error\n",
        "from sklearn.metrics import explained_variance_score"
      ]
    },
    {
      "cell_type": "code",
      "execution_count": null,
      "metadata": {
        "id": "gTVdMalKXxDH",
        "outputId": "c26bf780-4909-489d-eaa4-deb5ed05fb09"
      },
      "outputs": [
        {
          "name": "stdout",
          "output_type": "stream",
          "text": [
            "64958413.53216022\n",
            "8059.678252396941\n",
            "6609.592712772752\n",
            "0.9728758219591127\n",
            "0.9171695838072911\n"
          ]
        }
      ],
      "source": [
        "print(mean_squared_error(y_test,y_pred))\n",
        "print(np.sqrt(mean_squared_error(y_test,y_pred)))\n",
        "print(mean_absolute_error(y_test,y_pred))\n",
        "print(explained_variance_score(y_test,y_pred))\n",
        "print(r2_score(y_test,y_pred))"
      ]
    },
    {
      "cell_type": "code",
      "execution_count": null,
      "metadata": {
        "id": "hZmvip6NXxDH"
      },
      "outputs": [],
      "source": [
        "from sklearn.linear_model import SGDRegressor"
      ]
    },
    {
      "cell_type": "code",
      "execution_count": null,
      "metadata": {
        "id": "aWmPJu3XXxDH"
      },
      "outputs": [],
      "source": [
        "sgd=SGDRegressor(max_iter=6000,penalty=None,eta0=0.1,alpha=0.01)"
      ]
    },
    {
      "cell_type": "code",
      "execution_count": null,
      "metadata": {
        "id": "ETsn93NDXxDH",
        "outputId": "3aaef2e3-119a-4c07-e4c7-1c8602ff0bd7"
      },
      "outputs": [
        {
          "data": {
            "text/plain": [
              "SGDRegressor(alpha=0.01, average=False, early_stopping=False, epsilon=0.1,\n",
              "             eta0=0.1, fit_intercept=True, l1_ratio=0.15,\n",
              "             learning_rate='invscaling', loss='squared_loss', max_iter=6000,\n",
              "             n_iter_no_change=5, penalty=None, power_t=0.25, random_state=None,\n",
              "             shuffle=True, tol=0.001, validation_fraction=0.1, verbose=0,\n",
              "             warm_start=False)"
            ]
          },
          "execution_count": 56,
          "metadata": {},
          "output_type": "execute_result"
        }
      ],
      "source": [
        "x_train=x_train.reshape(-1,1)\n",
        "sgd.fit(x_train,y_train)"
      ]
    },
    {
      "cell_type": "code",
      "execution_count": null,
      "metadata": {
        "id": "NvMjO8gbXxDH"
      },
      "outputs": [],
      "source": [
        "x_test=x_test.reshape(-1,1)\n",
        "y_pred=sgd.predict(x_test)"
      ]
    },
    {
      "cell_type": "code",
      "execution_count": null,
      "metadata": {
        "id": "t_D4PwqnXxDI",
        "outputId": "3f470e32-c231-4b3c-e1e5-c3006274c12e"
      },
      "outputs": [
        {
          "data": {
            "image/png": "[encoded data removed]",
            "text/plain": [
              "<Figure size 432x288 with 1 Axes>"
            ]
          },
          "metadata": {
            "needs_background": "light"
          },
          "output_type": "display_data"
        }
      ],
      "source": [
        "plt.plot(x_test,y_pred,marker='o',\n",
        "         color='blue',markerfacecolor='red',\n",
        "         markersize=10,linestyle='dashed')\n",
        "plt.scatter(x,y,marker='o',color='red')\n",
        "plt.xlabel(\"yexp\")\n",
        "plt.ylabel(\"slaary\")\n",
        "plt.title(\"Gradient descent\")\n",
        "plt.show()"
      ]
    },
    {
      "cell_type": "code",
      "execution_count": null,
      "metadata": {
        "id": "YgRy0cjIXxDI",
        "outputId": "636dbcf2-31dd-49d3-87fa-d21adb4f7150"
      },
      "outputs": [
        {
          "name": "stdout",
          "output_type": "stream",
          "text": [
            "48854820.12551736\n",
            "6989.622316371419\n",
            "6412.335991842068\n",
            "0.9401408661805731\n",
            "0.9377037574661045\n"
          ]
        }
      ],
      "source": [
        "print(mean_squared_error(y_test,y_pred))\n",
        "print(np.sqrt(mean_squared_error(y_test,y_pred)))\n",
        "print(mean_absolute_error(y_test,y_pred))\n",
        "print(explained_variance_score(y_test,y_pred))\n",
        "print(r2_score(y_test,y_pred))"
      ]
    },
    {
      "cell_type": "code",
      "execution_count": null,
      "metadata": {
        "id": "3WJY1lp3XxDI"
      },
      "outputs": [],
      "source": []
    }
  ],
  "metadata": {
    "kernelspec": {
      "display_name": "Python 3",
      "language": "python",
      "name": "python3"
    },
    "language_info": {
      "codemirror_mode": {
        "name": "ipython",
        "version": 3
      },
      "file_extension": ".py",
      "mimetype": "text/x-python",
      "name": "python",
      "nbconvert_exporter": "python",
      "pygments_lexer": "ipython3",
      "version": "3.7.3"
    },
    "colab": {
      "provenance": [],
      "include_colab_link": true
    }
  },
  "nbformat": 4,
  "nbformat_minor": 0
}