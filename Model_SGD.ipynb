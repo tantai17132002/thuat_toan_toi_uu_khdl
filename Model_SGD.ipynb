{
  "nbformat": 4,
  "nbformat_minor": 0,
  "metadata": {
    "colab": {
      "provenance": [],
      "authorship_tag": "ABX9TyPujoeI3/DTSPr4jqYTaNTV",
      "include_colab_link": true
    },
    "kernelspec": {
      "name": "python3",
      "display_name": "Python 3"
    },
    "language_info": {
      "name": "python"
    }
  },
  "cells": [
    {
      "cell_type": "markdown",
      "metadata": {
        "id": "view-in-github",
        "colab_type": "text"
      },
      "source": [
        "<a href=\"https://colab.research.google.com/github/tantai17132002/thuat_toan_toi_uu_khdl/blob/main/Model_SGD.ipynb\" target=\"_parent\"><img src=\"https://colab.research.google.com/assets/colab-badge.svg\" alt=\"Open In Colab\"/></a>"
      ]
    },
    {
      "cell_type": "markdown",
      "source": [
        "<a href = \"https://www.facebook.com/tantai.trannguyen.9/\" ><img src = \"https://scontent.fhan2-3.fna.fbcdn.net/v/t39.30808-6/334157703_124138257262899_2356495393637333625_n.jpg?_nc_cat=111&ccb=1-7&_nc_sid=09cbfe&_nc_ohc=MhIdFWEDzykAX_rYH2v&_nc_ht=scontent.fhan2-3.fna&oh=00_AfAvI0t5uDzNmMRgShT-V7E1jEa3JsXsbkjgURLvN-ZMJg&oe=6468A53A\" width = 250, align = \"center\"></a>\n",
        "\n",
        "#<center>**THUẬT TOÁN STOCHASTIC GRADIENT DESCENT**"
      ],
      "metadata": {
        "id": "Jn8ZZFyk5_ra"
      }
    },
    {
      "cell_type": "code",
      "source": [
        "import pandas as pd\n",
        "import numpy as np\n",
        "from matplotlib import pyplot as plt\n",
        "%matplotlib inline"
      ],
      "metadata": {
        "id": "fUG0m15-4i1N"
      },
      "execution_count": 1,
      "outputs": []
    },
    {
      "cell_type": "code",
      "source": [
        "df = pd.read_csv(\"data_shop.csv\", encoding = 'utf8', index_col=None)\n",
        "df.head(5)"
      ],
      "metadata": {
        "colab": {
          "base_uri": "https://localhost:8080/",
          "height": 206
        },
        "id": "8WvPOiDmDWgU",
        "outputId": "c90f8ad7-cc50-43a9-a419-b08a6576d6c6"
      },
      "execution_count": 2,
      "outputs": [
        {
          "output_type": "execute_result",
          "data": {
            "text/plain": [
              "   So_khach  So_ao    Gia\n",
              "0        15     98  14700\n",
              "1        58     98  56840\n",
              "2        45     96  43200\n",
              "3         7     97   6790\n",
              "4         7     92   6440"
            ],
            "text/html": [
              "\n",
              "  <div id=\"df-387283f7-a861-4ac7-8229-d13d85aa6c2a\">\n",
              "    <div class=\"colab-df-container\">\n",
              "      <div>\n",
              "<style scoped>\n",
              "    .dataframe tbody tr th:only-of-type {\n",
              "        vertical-align: middle;\n",
              "    }\n",
              "\n",
              "    .dataframe tbody tr th {\n",
              "        vertical-align: top;\n",
              "    }\n",
              "\n",
              "    .dataframe thead th {\n",
              "        text-align: right;\n",
              "    }\n",
              "</style>\n",
              "<table border=\"1\" class=\"dataframe\">\n",
              "  <thead>\n",
              "    <tr style=\"text-align: right;\">\n",
              "      <th></th>\n",
              "      <th>So_khach</th>\n",
              "      <th>So_ao</th>\n",
              "      <th>Gia</th>\n",
              "    </tr>\n",
              "  </thead>\n",
              "  <tbody>\n",
              "    <tr>\n",
              "      <th>0</th>\n",
              "      <td>15</td>\n",
              "      <td>98</td>\n",
              "      <td>14700</td>\n",
              "    </tr>\n",
              "    <tr>\n",
              "      <th>1</th>\n",
              "      <td>58</td>\n",
              "      <td>98</td>\n",
              "      <td>56840</td>\n",
              "    </tr>\n",
              "    <tr>\n",
              "      <th>2</th>\n",
              "      <td>45</td>\n",
              "      <td>96</td>\n",
              "      <td>43200</td>\n",
              "    </tr>\n",
              "    <tr>\n",
              "      <th>3</th>\n",
              "      <td>7</td>\n",
              "      <td>97</td>\n",
              "      <td>6790</td>\n",
              "    </tr>\n",
              "    <tr>\n",
              "      <th>4</th>\n",
              "      <td>7</td>\n",
              "      <td>92</td>\n",
              "      <td>6440</td>\n",
              "    </tr>\n",
              "  </tbody>\n",
              "</table>\n",
              "</div>\n",
              "      <button class=\"colab-df-convert\" onclick=\"convertToInteractive('df-387283f7-a861-4ac7-8229-d13d85aa6c2a')\"\n",
              "              title=\"Convert this dataframe to an interactive table.\"\n",
              "              style=\"display:none;\">\n",
              "        \n",
              "  <svg xmlns=\"http://www.w3.org/2000/svg\" height=\"24px\"viewBox=\"0 0 24 24\"\n",
              "       width=\"24px\">\n",
              "    <path d=\"M0 0h24v24H0V0z\" fill=\"none\"/>\n",
              "    <path d=\"M18.56 5.44l.94 2.06.94-2.06 2.06-.94-2.06-.94-.94-2.06-.94 2.06-2.06.94zm-11 1L8.5 8.5l.94-2.06 2.06-.94-2.06-.94L8.5 2.5l-.94 2.06-2.06.94zm10 10l.94 2.06.94-2.06 2.06-.94-2.06-.94-.94-2.06-.94 2.06-2.06.94z\"/><path d=\"M17.41 7.96l-1.37-1.37c-.4-.4-.92-.59-1.43-.59-.52 0-1.04.2-1.43.59L10.3 9.45l-7.72 7.72c-.78.78-.78 2.05 0 2.83L4 21.41c.39.39.9.59 1.41.59.51 0 1.02-.2 1.41-.59l7.78-7.78 2.81-2.81c.8-.78.8-2.07 0-2.86zM5.41 20L4 18.59l7.72-7.72 1.47 1.35L5.41 20z\"/>\n",
              "  </svg>\n",
              "      </button>\n",
              "      \n",
              "  <style>\n",
              "    .colab-df-container {\n",
              "      display:flex;\n",
              "      flex-wrap:wrap;\n",
              "      gap: 12px;\n",
              "    }\n",
              "\n",
              "    .colab-df-convert {\n",
              "      background-color: #E8F0FE;\n",
              "      border: none;\n",
              "      border-radius: 50%;\n",
              "      cursor: pointer;\n",
              "      display: none;\n",
              "      fill: #1967D2;\n",
              "      height: 32px;\n",
              "      padding: 0 0 0 0;\n",
              "      width: 32px;\n",
              "    }\n",
              "\n",
              "    .colab-df-convert:hover {\n",
              "      background-color: #E2EBFA;\n",
              "      box-shadow: 0px 1px 2px rgba(60, 64, 67, 0.3), 0px 1px 3px 1px rgba(60, 64, 67, 0.15);\n",
              "      fill: #174EA6;\n",
              "    }\n",
              "\n",
              "    [theme=dark] .colab-df-convert {\n",
              "      background-color: #3B4455;\n",
              "      fill: #D2E3FC;\n",
              "    }\n",
              "\n",
              "    [theme=dark] .colab-df-convert:hover {\n",
              "      background-color: #434B5C;\n",
              "      box-shadow: 0px 1px 3px 1px rgba(0, 0, 0, 0.15);\n",
              "      filter: drop-shadow(0px 1px 2px rgba(0, 0, 0, 0.3));\n",
              "      fill: #FFFFFF;\n",
              "    }\n",
              "  </style>\n",
              "\n",
              "      <script>\n",
              "        const buttonEl =\n",
              "          document.querySelector('#df-387283f7-a861-4ac7-8229-d13d85aa6c2a button.colab-df-convert');\n",
              "        buttonEl.style.display =\n",
              "          google.colab.kernel.accessAllowed ? 'block' : 'none';\n",
              "\n",
              "        async function convertToInteractive(key) {\n",
              "          const element = document.querySelector('#df-387283f7-a861-4ac7-8229-d13d85aa6c2a');\n",
              "          const dataTable =\n",
              "            await google.colab.kernel.invokeFunction('convertToInteractive',\n",
              "                                                     [key], {});\n",
              "          if (!dataTable) return;\n",
              "\n",
              "          const docLinkHtml = 'Like what you see? Visit the ' +\n",
              "            '<a target=\"_blank\" href=https://colab.research.google.com/notebooks/data_table.ipynb>data table notebook</a>'\n",
              "            + ' to learn more about interactive tables.';\n",
              "          element.innerHTML = '';\n",
              "          dataTable['output_type'] = 'display_data';\n",
              "          await google.colab.output.renderOutput(dataTable, element);\n",
              "          const docLink = document.createElement('div');\n",
              "          docLink.innerHTML = docLinkHtml;\n",
              "          element.appendChild(docLink);\n",
              "        }\n",
              "      </script>\n",
              "    </div>\n",
              "  </div>\n",
              "  "
            ]
          },
          "metadata": {},
          "execution_count": 2
        }
      ]
    },
    {
      "cell_type": "markdown",
      "source": [
        "Khai thác/Chia tỷ lệ: Vì các cột nằm trên các cột khác nhau nên điều quan trọng là phải thực hiện chia tỷ lệ trên chúng"
      ],
      "metadata": {
        "id": "Y51htX6kPva5"
      }
    },
    {
      "cell_type": "code",
      "source": [
        "from sklearn import preprocessing\n",
        "\n",
        "#Khai thác x,y\n",
        "x = preprocessing.MinMaxScaler()\n",
        "y = preprocessing.MinMaxScaler()\n",
        "\n",
        "tile_X = x.fit_transform(df.drop('Gia', axis='columns'))\n",
        "tile_y = y.fit_transform(df['Gia'].values.reshape(df.shape[0],1))"
      ],
      "metadata": {
        "id": "c3TAsWbxO9r1"
      },
      "execution_count": 21,
      "outputs": []
    },
    {
      "cell_type": "code",
      "source": [
        "tile_X"
      ],
      "metadata": {
        "colab": {
          "base_uri": "https://localhost:8080/"
        },
        "id": "_dFHHF1GQ_6T",
        "outputId": "fa475466-329b-4dfe-9710-0547abb56bf5"
      },
      "execution_count": 22,
      "outputs": [
        {
          "output_type": "execute_result",
          "data": {
            "text/plain": [
              "array([[0.15151515, 0.97802198],\n",
              "       [0.8030303 , 0.97802198],\n",
              "       [0.60606061, 0.95604396],\n",
              "       [0.03030303, 0.96703297],\n",
              "       [0.03030303, 0.91208791],\n",
              "       [0.03030303, 1.        ],\n",
              "       [0.68181818, 0.98901099],\n",
              "       [0.75757576, 0.97802198],\n",
              "       [0.25757576, 0.98901099],\n",
              "       [0.62121212, 0.97802198],\n",
              "       [0.62121212, 0.86813187],\n",
              "       [0.33333333, 1.        ],\n",
              "       [0.33333333, 1.        ],\n",
              "       [0.60606061, 1.        ],\n",
              "       [0.1969697 , 0.95604396],\n",
              "       [0.        , 1.        ],\n",
              "       [0.53030303, 0.97802198],\n",
              "       [0.3030303 , 0.96703297],\n",
              "       [0.3030303 , 0.86813187],\n",
              "       [0.65151515, 0.96703297],\n",
              "       [0.65151515, 0.96703297],\n",
              "       [0.53030303, 0.95604396],\n",
              "       [0.01515152, 0.95604396],\n",
              "       [0.63636364, 0.92307692],\n",
              "       [0.51515152, 0.97802198],\n",
              "       [0.53030303, 0.86813187],\n",
              "       [0.31818182, 1.        ],\n",
              "       [0.54545455, 1.        ],\n",
              "       [0.53030303, 0.93406593],\n",
              "       [0.53030303, 0.96703297],\n",
              "       [0.53030303, 1.        ],\n",
              "       [0.59090909, 0.98901099],\n",
              "       [0.53030303, 0.97802198],\n",
              "       [0.72727273, 0.34065934],\n",
              "       [0.53030303, 0.96703297],\n",
              "       [0.43939394, 0.45054945],\n",
              "       [0.42424242, 0.86813187],\n",
              "       [0.54545455, 0.59340659],\n",
              "       [0.60606061, 0.94505495],\n",
              "       [0.53030303, 1.        ],\n",
              "       [0.1969697 , 0.97802198],\n",
              "       [0.60606061, 0.89010989],\n",
              "       [0.45454545, 0.96703297],\n",
              "       [0.16666667, 0.89010989],\n",
              "       [0.5       , 0.79120879],\n",
              "       [0.07575758, 0.89010989],\n",
              "       [0.68181818, 0.85714286],\n",
              "       [0.06060606, 0.96703297],\n",
              "       [0.68181818, 0.9010989 ],\n",
              "       [0.68181818, 0.95604396],\n",
              "       [0.68181818, 0.96703297],\n",
              "       [0.68181818, 1.        ],\n",
              "       [0.68181818, 0.17582418],\n",
              "       [0.37878788, 0.96703297],\n",
              "       [0.68181818, 0.03296703],\n",
              "       [1.        , 1.        ],\n",
              "       [0.5       , 0.94505495],\n",
              "       [0.24242424, 0.95604396],\n",
              "       [0.59090909, 1.        ],\n",
              "       [0.66666667, 0.97802198],\n",
              "       [0.8030303 , 0.89010989],\n",
              "       [0.56060606, 0.96703297],\n",
              "       [0.56060606, 0.96703297],\n",
              "       [0.59090909, 0.94505495],\n",
              "       [0.68181818, 0.40659341],\n",
              "       [0.77272727, 1.        ],\n",
              "       [0.24242424, 0.96703297],\n",
              "       [0.71212121, 1.        ],\n",
              "       [0.68181818, 0.08791209],\n",
              "       [0.68181818, 0.08791209],\n",
              "       [0.68181818, 0.08791209],\n",
              "       [0.68181818, 0.08791209],\n",
              "       [0.68181818, 0.08791209],\n",
              "       [0.63636364, 0.8021978 ],\n",
              "       [0.68181818, 0.08791209],\n",
              "       [0.68181818, 0.08791209],\n",
              "       [0.68181818, 0.        ],\n",
              "       [0.16666667, 0.93406593],\n",
              "       [0.16666667, 1.        ],\n",
              "       [0.72727273, 0.97802198],\n",
              "       [0.53030303, 1.        ],\n",
              "       [0.53030303, 0.97802198],\n",
              "       [0.90909091, 0.97802198],\n",
              "       [0.66666667, 0.97802198],\n",
              "       [0.57575758, 0.95604396],\n",
              "       [0.04545455, 1.        ],\n",
              "       [0.27272727, 0.64835165],\n",
              "       [0.39393939, 1.        ],\n",
              "       [0.39393939, 1.        ],\n",
              "       [0.34848485, 0.98901099],\n",
              "       [0.34848485, 0.98901099],\n",
              "       [0.34848485, 0.97802198],\n",
              "       [0.15151515, 1.        ],\n",
              "       [0.04545455, 1.        ],\n",
              "       [0.04545455, 1.        ],\n",
              "       [0.53030303, 0.86813187],\n",
              "       [0.63636364, 0.45054945],\n",
              "       [0.42424242, 0.86813187],\n",
              "       [0.16666667, 1.        ]])"
            ]
          },
          "metadata": {},
          "execution_count": 22
        }
      ]
    },
    {
      "cell_type": "code",
      "source": [
        "tile_y"
      ],
      "metadata": {
        "colab": {
          "base_uri": "https://localhost:8080/"
        },
        "id": "tQQ0_2pYdcgx",
        "outputId": "567908e0-25cf-4a70-9498-4bc94a494152"
      },
      "execution_count": 23,
      "outputs": [
        {
          "output_type": "execute_result",
          "data": {
            "text/plain": [
              "array([[0.15338346],\n",
              "       [0.78706767],\n",
              "       [0.58195489],\n",
              "       [0.03443609],\n",
              "       [0.02917293],\n",
              "       [0.03759398],\n",
              "       [0.67669173],\n",
              "       [0.74285714],\n",
              "       [0.25984962],\n",
              "       [0.61022556],\n",
              "       [0.54105263],\n",
              "       [0.33834586],\n",
              "       [0.33834586],\n",
              "       [0.60902256],\n",
              "       [0.19218045],\n",
              "       [0.0075188 ],\n",
              "       [0.52180451],\n",
              "       [0.29699248],\n",
              "       [0.26315789],\n",
              "       [0.6324812 ],\n",
              "       [0.6324812 ],\n",
              "       [0.50977444],\n",
              "       [0.01894737],\n",
              "       [0.58962406],\n",
              "       [0.50706767],\n",
              "       [0.46165414],\n",
              "       [0.32330827],\n",
              "       [0.54887218],\n",
              "       [0.49774436],\n",
              "       [0.51578947],\n",
              "       [0.53383459],\n",
              "       [0.58736842],\n",
              "       [0.52180451],\n",
              "       [0.25112782],\n",
              "       [0.51578947],\n",
              "       [0.18796992],\n",
              "       [0.36902256],\n",
              "       [0.32075188],\n",
              "       [0.57518797],\n",
              "       [0.53383459],\n",
              "       [0.19759398],\n",
              "       [0.54135338],\n",
              "       [0.44285714],\n",
              "       [0.14887218],\n",
              "       [0.39518797],\n",
              "       [0.06766917],\n",
              "       [0.58646617],\n",
              "       [0.06360902],\n",
              "       [0.61654135],\n",
              "       [0.65413534],\n",
              "       [0.66165414],\n",
              "       [0.68421053],\n",
              "       [0.12030075],\n",
              "       [0.36992481],\n",
              "       [0.02255639],\n",
              "       [1.        ],\n",
              "       [0.47518797],\n",
              "       [0.23548872],\n",
              "       [0.59398496],\n",
              "       [0.65443609],\n",
              "       [0.71729323],\n",
              "       [0.54496241],\n",
              "       [0.54496241],\n",
              "       [0.56090226],\n",
              "       [0.27819549],\n",
              "       [0.77443609],\n",
              "       [0.23864662],\n",
              "       [0.71428571],\n",
              "       [0.06015038],\n",
              "       [0.06015038],\n",
              "       [0.06015038],\n",
              "       [0.06015038],\n",
              "       [0.06015038],\n",
              "       [0.5118797 ],\n",
              "       [0.06015038],\n",
              "       [0.06015038],\n",
              "       [0.        ],\n",
              "       [0.15849624],\n",
              "       [0.17293233],\n",
              "       [0.71338346],\n",
              "       [0.53383459],\n",
              "       [0.52180451],\n",
              "       [0.89022556],\n",
              "       [0.65443609],\n",
              "       [0.55308271],\n",
              "       [0.05263158],\n",
              "       [0.1675188 ],\n",
              "       [0.39849624],\n",
              "       [0.39849624],\n",
              "       [0.34917293],\n",
              "       [0.34917293],\n",
              "       [0.34496241],\n",
              "       [0.15789474],\n",
              "       [0.05263158],\n",
              "       [0.05263158],\n",
              "       [0.46165414],\n",
              "       [0.28571429],\n",
              "       [0.36902256],\n",
              "       [0.17293233]])"
            ]
          },
          "metadata": {},
          "execution_count": 23
        }
      ]
    },
    {
      "cell_type": "markdown",
      "source": [
        "Chuyển đổi cột Giá thành mảng một chiều. Nó đã trở thành 2D do mở rộng quy mô đã làm ở trên nhưng bây giờ nên đổi thành 1D\n",
        "\n",
        "\n"
      ],
      "metadata": {
        "id": "lEzzAbfdeIng"
      }
    },
    {
      "cell_type": "code",
      "source": [
        "tile_y.reshape(99, )"
      ],
      "metadata": {
        "colab": {
          "base_uri": "https://localhost:8080/"
        },
        "id": "KaLrmUomd2-I",
        "outputId": "db8bc010-6b8b-4e24-db1b-2a2e5ea553ce"
      },
      "execution_count": 24,
      "outputs": [
        {
          "output_type": "execute_result",
          "data": {
            "text/plain": [
              "array([0.15338346, 0.78706767, 0.58195489, 0.03443609, 0.02917293,\n",
              "       0.03759398, 0.67669173, 0.74285714, 0.25984962, 0.61022556,\n",
              "       0.54105263, 0.33834586, 0.33834586, 0.60902256, 0.19218045,\n",
              "       0.0075188 , 0.52180451, 0.29699248, 0.26315789, 0.6324812 ,\n",
              "       0.6324812 , 0.50977444, 0.01894737, 0.58962406, 0.50706767,\n",
              "       0.46165414, 0.32330827, 0.54887218, 0.49774436, 0.51578947,\n",
              "       0.53383459, 0.58736842, 0.52180451, 0.25112782, 0.51578947,\n",
              "       0.18796992, 0.36902256, 0.32075188, 0.57518797, 0.53383459,\n",
              "       0.19759398, 0.54135338, 0.44285714, 0.14887218, 0.39518797,\n",
              "       0.06766917, 0.58646617, 0.06360902, 0.61654135, 0.65413534,\n",
              "       0.66165414, 0.68421053, 0.12030075, 0.36992481, 0.02255639,\n",
              "       1.        , 0.47518797, 0.23548872, 0.59398496, 0.65443609,\n",
              "       0.71729323, 0.54496241, 0.54496241, 0.56090226, 0.27819549,\n",
              "       0.77443609, 0.23864662, 0.71428571, 0.06015038, 0.06015038,\n",
              "       0.06015038, 0.06015038, 0.06015038, 0.5118797 , 0.06015038,\n",
              "       0.06015038, 0.        , 0.15849624, 0.17293233, 0.71338346,\n",
              "       0.53383459, 0.52180451, 0.89022556, 0.65443609, 0.55308271,\n",
              "       0.05263158, 0.1675188 , 0.39849624, 0.39849624, 0.34917293,\n",
              "       0.34917293, 0.34496241, 0.15789474, 0.05263158, 0.05263158,\n",
              "       0.46165414, 0.28571429, 0.36902256, 0.17293233])"
            ]
          },
          "metadata": {},
          "execution_count": 24
        }
      ]
    },
    {
      "cell_type": "markdown",
      "source": [
        "Stochastic Gradient Descent cho phép tìm trọng số (w1,w2,w3) và độ lệch theo phương trình tuyến tính để dự đoán giá áo và sẽ sử dụng mẫu đào tạo đơn lẻ được chọn \n",
        "ngẫu nhiên để tính toán lỗi và sử dụng lỗi này, backpropage (truyền ngược) để điều chỉnh trọng số"
      ],
      "metadata": {
        "id": "HawBQcE8st_Z"
      }
    },
    {
      "cell_type": "code",
      "source": [
        "#Sử dụng thư viện random để chọn mẫu đào tạo ngẫu nhiên\n",
        "import random\n",
        "random.randint(0,10) #randit đưa ra số ngẫu nhiên giữa hai số được chỉ định trong đối số"
      ],
      "metadata": {
        "colab": {
          "base_uri": "https://localhost:8080/"
        },
        "id": "2_67QQFZeLY4",
        "outputId": "a3d38a12-b089-474f-b975-dc652dc32b46"
      },
      "execution_count": 7,
      "outputs": [
        {
          "output_type": "execute_result",
          "data": {
            "text/plain": [
              "3"
            ]
          },
          "metadata": {},
          "execution_count": 7
        }
      ]
    },
    {
      "cell_type": "code",
      "source": [
        "def stochastic_gradient_descent(X, y_true, epochs, learning_rate = 0.01): #epochs: điểm tham chiếu\n",
        " \n",
        "    number_of_features = X.shape[1]\n",
        "    # Mảng numpy có 1 hàng và cột bằng số trong đối tượng \n",
        "    # trường hợp này thì number_of_features = 2 (Khach Dat Hang, Ao Trong Kho)\n",
        "    w = np.ones(shape=(number_of_features)) \n",
        "    b = 0 #Độ lệch\n",
        "    total_samples = X.shape[0]\n",
        "    \n",
        "    cost_list = []\n",
        "    epoch_list = []\n",
        "    \n",
        "    for i in range(epochs):    \n",
        "        random_index = random.randint(0,total_samples-1) # Chỉ số ngẫu nhiên từ tổng số mẫu\n",
        "        sample_x = X[random_index]\n",
        "        sample_y = y_true[random_index]\n",
        "        \n",
        "        y_predicted = np.dot(w, sample_x.T) + b\n",
        "    \n",
        "        w_grad = -(2/total_samples)*(sample_x.T.dot(sample_y-y_predicted))\n",
        "        b_grad = -(2/total_samples)*(sample_y-y_predicted)\n",
        "        \n",
        "        w = w - learning_rate * w_grad\n",
        "        b = b - learning_rate * b_grad\n",
        "        \n",
        "        cost = np.square(sample_y-y_predicted)\n",
        "        \n",
        "        if i%100==0: # ở mỗi lần lặp thứ 100 ghi lại chi phí và giá trị điểm tham chiếu\n",
        "            cost_list.append(cost)\n",
        "            epoch_list.append(i)\n",
        "        \n",
        "    return w, b, cost, cost_list, epoch_list\n",
        "\n",
        "w_sgd, b_sgd, cost_sgd, cost_list_sgd, epoch_list_sgd = stochastic_gradient_descent(tile_X,tile_y.reshape(tile_y.shape[0],),10000)"
      ],
      "metadata": {
        "id": "nO7V8L_AtW9a"
      },
      "execution_count": 11,
      "outputs": []
    },
    {
      "cell_type": "code",
      "source": [
        "#w: hàm mất mát, b: độ lệch, cost: số vòng lặp\n",
        "w_sgd, b_sgd, cost_sgd"
      ],
      "metadata": {
        "colab": {
          "base_uri": "https://localhost:8080/"
        },
        "id": "uvScCkL2719G",
        "outputId": "6b6b1b48-47fb-49a6-cf35-ec00564e0fef"
      },
      "execution_count": 13,
      "outputs": [
        {
          "output_type": "execute_result",
          "data": {
            "text/plain": [
              "(array([0.78528878, 0.59574163]), -0.47183425022684095, 0.004296719803746572)"
            ]
          },
          "metadata": {},
          "execution_count": 13
        }
      ]
    },
    {
      "cell_type": "code",
      "source": [
        "plt.xlabel(\"Tham Chiếu\")\n",
        "plt.ylabel(\"Lặp Lại\")\n",
        "plt.plot(epoch_list_sgd,cost_list_sgd)"
      ],
      "metadata": {
        "colab": {
          "base_uri": "https://localhost:8080/",
          "height": 467
        },
        "id": "CS_frtj0u-mv",
        "outputId": "be0508cd-a251-4d3d-cbd6-e29459b0bfb3"
      },
      "execution_count": 14,
      "outputs": [
        {
          "output_type": "execute_result",
          "data": {
            "text/plain": [
              "[<matplotlib.lines.Line2D at 0x7f9599241d80>]"
            ]
          },
          "metadata": {},
          "execution_count": 14
        },
        {
          "output_type": "display_data",
          "data": {
            "text/plain": [
              "<Figure size 640x480 with 1 Axes>"
            ],
            "image/png": "[encoded data removed]"
          },
          "metadata": {}
        }
      ]
    },
    {
      "cell_type": "markdown",
      "source": [
        "Stochastic Gradient Descent chỉ chọn một trường hợp ngẫu nhiên trong tập huấn luyện ở mỗi bước và tính toán độ dốc chỉ dựa trên trường hợp đơn lẻ đó.\n",
        "Do tính chất ngẫu nhiên, thuật toán này ít thường xuyên giảm nhẹ cho đến khi đạt mức tối thiểu, hàm chi phí sẽ tăng lên và giảm xuống."
      ],
      "metadata": {
        "id": "Ws80ADW6EMA-"
      }
    },
    {
      "cell_type": "code",
      "source": [
        "#Tao ham du doan giá áo \n",
        "def predict(So_khach, So_ao , w_sgd, b_sgd):\n",
        "    tile_X = x.transform([[So_khach, So_ao]])[0]\n",
        "    # ở đây w1 = w[0] , w2 = w[1] and độ lệch b\n",
        "    # tile_X[0] is Khach Dat Hang\n",
        "    # tile_X[1] is So ao trong kho\n",
        "    # Công thức tính giá là w1*So Khach dat hang + w2* So Ao Trong Kho + độ lệch \n",
        "    tile_price = w_sgd[0] * tile_X[0] + w_sgd[1] * tile_X[1] + b_sgd\n",
        "    # sau khi nhận được dự đoán về giá, thay đổi quy mô về giá trị ban đầu\n",
        "    # Cũng vì nó trả về mảng 2D, để nhận được một giá trị thì value[0][0]\n",
        "    return y.inverse_transform([[tile_price]])[0][0]"
      ],
      "metadata": {
        "id": "CHf3SKMAvjP7"
      },
      "execution_count": 38,
      "outputs": []
    },
    {
      "cell_type": "code",
      "source": [
        "#dự đoán giá áo khi khách đạt hàng là 15, số lượng áo là 100\n",
        "predict(15,100,w_sgd, b_sgd)\n"
      ],
      "metadata": {
        "colab": {
          "base_uri": "https://localhost:8080/"
        },
        "id": "aNMd2niQzKk1",
        "outputId": "14e881de-4b55-4fb1-cfc7-29ef1c61740b"
      },
      "execution_count": 39,
      "outputs": [
        {
          "output_type": "stream",
          "name": "stderr",
          "text": [
            "/usr/local/lib/python3.10/dist-packages/sklearn/base.py:439: UserWarning: X does not have valid feature names, but MinMaxScaler was fitted with feature names\n",
            "  warnings.warn(\n"
          ]
        },
        {
          "output_type": "execute_result",
          "data": {
            "text/plain": [
              "20652.220101705283"
            ]
          },
          "metadata": {},
          "execution_count": 39
        }
      ]
    }
  ]
}